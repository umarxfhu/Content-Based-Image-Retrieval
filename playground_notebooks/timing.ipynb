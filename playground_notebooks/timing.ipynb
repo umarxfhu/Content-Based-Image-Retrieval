{
 "cells": [
  {
   "cell_type": "code",
   "execution_count": 8,
   "metadata": {},
   "outputs": [
    {
     "name": "stdout",
     "output_type": "stream",
     "text": [
      "reverted: 2022-04-04 11:33:46.539863\n",
      "2022-04-04 11:33:50.043840\n",
      "difference 3.503977 sec\n",
      "expired\n"
     ]
    }
   ],
   "source": [
    "from datetime import datetime\n",
    "import time\n",
    "\n",
    "old_time = str(datetime.now())\n",
    "\n",
    "reverted_time = datetime.strptime(old_time, \"%Y-%m-%d %H:%M:%S.%f\")\n",
    "\n",
    "print(\"reverted:\", reverted_time)\n",
    "time.sleep(3.5)\n",
    "\n",
    "new_time = datetime.now()\n",
    "print(new_time)\n",
    "difference = (new_time - reverted_time).total_seconds()\n",
    "print(\"difference\", difference, \"sec\")\n",
    "if difference >= 3.5:\n",
    "    print(\"expired\")\n",
    "# finish finding the format and convert there to string and back\n"
   ]
  },
  {
   "cell_type": "code",
   "execution_count": 3,
   "metadata": {},
   "outputs": [
    {
     "name": "stdout",
     "output_type": "stream",
     "text": [
      "1 2 3 4 5 6 7 8\n"
     ]
    }
   ],
   "source": [
    "mylist = [1,2,3,4,5,6,7,8]\n",
    "print(*mylist)"
   ]
  },
  {
   "cell_type": "code",
   "execution_count": 15,
   "metadata": {},
   "outputs": [
    {
     "data": {
      "text/plain": [
       "'assets/59k4sg64-5423-4523b/random_dataset_name/unzipped/random_dataset_name_too/32.jpg'"
      ]
     },
     "execution_count": 15,
     "metadata": {},
     "output_type": "execute_result"
    }
   ],
   "source": [
    "my_str = 'assets/88d9b120/random_dataset_name/unzipped/random_dataset_name_too/32.jpg'\n",
    "# this assumes the user id is always second in the path (immediate directory in assets)\n",
    "old_id = my_str.split('/')[1]\n",
    "new_id = \"59k4sg64-5423-4523b\"\n",
    "new_str = my_str.replace(old_id, new_id)\n",
    "new_str"
   ]
  },
  {
   "cell_type": "code",
   "execution_count": 3,
   "metadata": {},
   "outputs": [
    {
     "name": "stdout",
     "output_type": "stream",
     "text": [
      "hi\n",
      "hi\n",
      "['assets/88d9b120-0374-41b1-8165-bf06a8a0bb9d/lobe_shadow_flat-20220418T145315Z-001/unzipped/lobe_shadow_flat/26.691973209381104_76_lobe_bot_2021_07_23_10_53_24_4_.jpg', 'assets/88d9b120-0374-41b1-8165-bf06a8a0bb9d/lobe_shadow_flat-20220418T145315Z-001/unzipped/lobe_shadow_flat/27.96749174594879_77_lobe_bot_2021_07_21_19_07_37_4_.jpg', 'assets/88d9b120-0374-41b1-8165-bf06a8a0bb9d/lobe_shadow_flat-20220418T145315Z-001/unzipped/lobe_shadow_flat/28.206226229667664_77_lobe_bot_2021_07_23_10_53_24_4_.jpg']\n",
      "['assets/testid/lobe_shadow_flat-20220418T145315Z-001/unzipped/lobe_shadow_flat/26.691973209381104_76_lobe_bot_2021_07_23_10_53_24_4_.jpg', 'assets/testid/lobe_shadow_flat-20220418T145315Z-001/unzipped/lobe_shadow_flat/27.96749174594879_77_lobe_bot_2021_07_21_19_07_37_4_.jpg', 'assets/testid/lobe_shadow_flat-20220418T145315Z-001/unzipped/lobe_shadow_flat/28.206226229667664_77_lobe_bot_2021_07_23_10_53_24_4_.jpg']\n"
     ]
    }
   ],
   "source": [
    "import os\n",
    "import pickle\n",
    "print(\"hi\")\n",
    "# if using injected resources, load from file and save into redis\n",
    "resources_dir = \"/Users/umar/UWaterloo/Musashi Winter Co-op/Content-Based-Image-Retrieval/src/assets/625b922c-d544-40ee-bfbb-595b527222bb/lobe_shadow_flat-20220418T145315Z-001/resources\"\n",
    "with open(\n",
    "    os.path.join(resources_dir, \"lobe_shadow_flat-20220418T145315Z-001_img_paths.pickle\"), \"rb\"\n",
    ") as f:\n",
    "    print(\"hi\")\n",
    "    img_paths = pickle.load(f)\n",
    "print(img_paths[0:3])\n",
    "# replace the user_id from saved paths to that of current user\n",
    "session_id = \"testid\"\n",
    "old_id = img_paths[0].split('/')[1]\n",
    "img_paths = [path.replace(old_id, session_id) for path in img_paths]\n",
    "print(img_paths[0:3])"
   ]
  },
  {
   "cell_type": "code",
   "execution_count": null,
   "metadata": {},
   "outputs": [],
   "source": []
  }
 ],
 "metadata": {
  "interpreter": {
   "hash": "ff26d6086c1a6a7249af1afe1a048f1c4068aa9e1efc453b6f8205a87ae54dc4"
  },
  "kernelspec": {
   "display_name": "Python 3.8.0 ('torchgpu')",
   "language": "python",
   "name": "python3"
  },
  "language_info": {
   "codemirror_mode": {
    "name": "ipython",
    "version": 3
   },
   "file_extension": ".py",
   "mimetype": "text/x-python",
   "name": "python",
   "nbconvert_exporter": "python",
   "pygments_lexer": "ipython3",
   "version": "3.8.0"
  },
  "orig_nbformat": 4
 },
 "nbformat": 4,
 "nbformat_minor": 2
}
