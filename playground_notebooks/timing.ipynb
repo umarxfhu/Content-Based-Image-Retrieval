{
 "cells": [
  {
   "cell_type": "code",
   "execution_count": 8,
   "metadata": {},
   "outputs": [
    {
     "name": "stdout",
     "output_type": "stream",
     "text": [
      "reverted: 2022-04-04 11:33:46.539863\n",
      "2022-04-04 11:33:50.043840\n",
      "difference 3.503977 sec\n",
      "expired\n"
     ]
    }
   ],
   "source": [
    "from datetime import datetime\n",
    "import time\n",
    "\n",
    "old_time = str(datetime.now())\n",
    "\n",
    "reverted_time = datetime.strptime(old_time, \"%Y-%m-%d %H:%M:%S.%f\")\n",
    "\n",
    "print(\"reverted:\", reverted_time)\n",
    "time.sleep(3.5)\n",
    "\n",
    "new_time = datetime.now()\n",
    "print(new_time)\n",
    "difference = (new_time - reverted_time).total_seconds()\n",
    "print(\"difference\", difference, \"sec\")\n",
    "if difference >= 3.5:\n",
    "    print(\"expired\")\n",
    "# finish finding the format and convert there to string and back\n"
   ]
  },
  {
   "cell_type": "code",
   "execution_count": 3,
   "metadata": {},
   "outputs": [
    {
     "name": "stdout",
     "output_type": "stream",
     "text": [
      "1 2 3 4 5 6 7 8\n"
     ]
    }
   ],
   "source": [
    "mylist = [1,2,3,4,5,6,7,8]\n",
    "print(*mylist)"
   ]
  },
  {
   "cell_type": "code",
   "execution_count": null,
   "metadata": {},
   "outputs": [],
   "source": []
  }
 ],
 "metadata": {
  "interpreter": {
   "hash": "ff26d6086c1a6a7249af1afe1a048f1c4068aa9e1efc453b6f8205a87ae54dc4"
  },
  "kernelspec": {
   "display_name": "Python 3.8.0 ('torchgpu')",
   "language": "python",
   "name": "python3"
  },
  "language_info": {
   "codemirror_mode": {
    "name": "ipython",
    "version": 3
   },
   "file_extension": ".py",
   "mimetype": "text/x-python",
   "name": "python",
   "nbconvert_exporter": "python",
   "pygments_lexer": "ipython3",
   "version": "3.8.0"
  },
  "orig_nbformat": 4
 },
 "nbformat": 4,
 "nbformat_minor": 2
}
