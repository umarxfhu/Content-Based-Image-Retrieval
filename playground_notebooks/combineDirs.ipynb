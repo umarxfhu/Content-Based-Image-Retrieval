{
 "cells": [
  {
   "cell_type": "code",
   "execution_count": 2,
   "metadata": {},
   "outputs": [],
   "source": [
    "import shutil\n",
    "import os\n",
    "\n",
    "# current folder path\n",
    "current_folder = \"/home/umar-musashi/Downloads/shapes\"\n"
   ]
  },
  {
   "cell_type": "code",
   "execution_count": 3,
   "metadata": {},
   "outputs": [
    {
     "data": {
      "text/plain": [
       "'/home/umar-musashi/Downloads/shapesmerge_folder'"
      ]
     },
     "execution_count": 3,
     "metadata": {},
     "output_type": "execute_result"
    }
   ],
   "source": [
    "# Function to create new folder if not exists\n",
    "def make_new_folder(folder_name, parent_folder):\n",
    "\tpath = os.path.join(parent_folder, folder_name)\n",
    "\t# Create the folder 'new_folder' in parent_folder\n",
    "\ttry:\n",
    "\t\tmode = 0o777            # mode of the folder\n",
    "\t\tos.mkdir(path, mode)    # Create folder\n",
    "\texcept OSError as error:\n",
    "\t\tprint(error)\n",
    "\n",
    "# list of folders to be merged\n",
    "list_dir = os.listdir(current_folder)\n",
    "\n",
    "# enumerate on list_dir to get the content of all the folders and store\n",
    "# it in a dictionary\n",
    "content_list = {}\n",
    "for index, val in enumerate(list_dir):\n",
    "\tpath = os.path.join(current_folder, val)\n",
    "\tcontent_list[ list_dir[index] ] = os.listdir(path)\n",
    "\n",
    "# folder name in which all the content will be merged\n",
    "merge_folder = current_folder.split('/')[-1] + \"merge_folder\"\n",
    "\n",
    "# merge_folder path - current_folder + merge_folder\n",
    "merge_folder_path = os.path.join(current_folder, merge_folder)\n",
    "\n",
    "# create merge_folder if not exists\n",
    "make_new_folder(merge_folder, current_folder)\n",
    "\n",
    "# loop through the list of folders\n",
    "for sub_dir in content_list:\n",
    "    # loop through the contents of the list of folders\n",
    "    for contents in content_list[sub_dir]:\n",
    "        # make the path of the content to move\n",
    "        path_to_content = sub_dir + \"/\" + contents\n",
    "        # make the path with the current folder\n",
    "        dir_to_move = os.path.join(current_folder, path_to_content)\n",
    "        # rename original file to have subfolder name in filename\n",
    "        pathNewName = os.path.join(current_folder, sub_dir + \"/\" + sub_dir + '_' + contents)\n",
    "        os.rename(dir_to_move, pathNewName)\n",
    "        # move original file to merge_folder\n",
    "        shutil.copy(pathNewName, merge_folder_path)\n",
    "\n",
    "shutil.move(merge_folder_path, os.path.dirname(current_folder))"
   ]
  },
  {
   "cell_type": "code",
   "execution_count": null,
   "metadata": {},
   "outputs": [],
   "source": []
  }
 ],
 "metadata": {
  "interpreter": {
   "hash": "1089f23a3523bf9c40b9fa12b343a9e4d31ea584d121e195367e555faf0ce6b3"
  },
  "kernelspec": {
   "display_name": "Python 3.8.0 ('torchgpu')",
   "language": "python",
   "name": "python3"
  },
  "language_info": {
   "codemirror_mode": {
    "name": "ipython",
    "version": 3
   },
   "file_extension": ".py",
   "mimetype": "text/x-python",
   "name": "python",
   "nbconvert_exporter": "python",
   "pygments_lexer": "ipython3",
   "version": "3.8.0"
  },
  "orig_nbformat": 4
 },
 "nbformat": 4,
 "nbformat_minor": 2
}
